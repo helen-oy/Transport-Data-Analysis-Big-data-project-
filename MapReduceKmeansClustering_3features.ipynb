{
 "cells": [
  {
   "cell_type": "code",
   "execution_count": 1,
   "metadata": {},
   "outputs": [],
   "source": [
    "import os\n",
    "import sys\n",
    "\n",
    "# Ensure that both driver and worker use the same Python executable\n",
    "os.environ['PYSPARK_PYTHON'] = sys.executable\n",
    "os.environ['PYSPARK_DRIVER_PYTHON'] = sys.executable"
   ]
  },
  {
   "cell_type": "code",
   "execution_count": 2,
   "metadata": {},
   "outputs": [
    {
     "name": "stderr",
     "output_type": "stream",
     "text": [
      "24/09/12 18:58:47 WARN Utils: Your hostname, Helens-MacBook-Pro.local resolves to a loopback address: 127.0.0.1; using 192.168.0.14 instead (on interface en0)\n",
      "24/09/12 18:58:47 WARN Utils: Set SPARK_LOCAL_IP if you need to bind to another address\n",
      "Setting default log level to \"WARN\".\n",
      "To adjust logging level use sc.setLogLevel(newLevel). For SparkR, use setLogLevel(newLevel).\n",
      "24/09/12 18:58:48 WARN NativeCodeLoader: Unable to load native-hadoop library for your platform... using builtin-java classes where applicable\n",
      "24/09/12 18:58:49 WARN Utils: Service 'SparkUI' could not bind on port 4040. Attempting port 4041.\n",
      "24/09/12 18:58:49 WARN Utils: Service 'SparkUI' could not bind on port 4041. Attempting port 4042.\n"
     ]
    }
   ],
   "source": [
    "# starting spark session\n",
    "from pyspark.sql import SparkSession\n",
    "import pyspark.sql.functions as sql_f\n",
    "spark =  SparkSession\\\n",
    "    .builder\\\n",
    "    .master('local[*]')\\\n",
    "    .appName('MLDistributed')\\\n",
    "    .getOrCreate()\n",
    "\n",
    "sc = spark.sparkContext\n",
    "\n"
   ]
  },
  {
   "cell_type": "code",
   "execution_count": 3,
   "metadata": {},
   "outputs": [],
   "source": [
    "import pandas as pd\n",
    "import numpy as np\n",
    "import matplotlib.pyplot as plt\n",
    "import seaborn as sns\n",
    "import os"
   ]
  },
  {
   "cell_type": "code",
   "execution_count": 4,
   "metadata": {},
   "outputs": [],
   "source": [
    "# reading data\n",
    "from pyspark.sql.types import *\n",
    "schema  = StructType(\n",
    "    [   \n",
    "        StructField('id', IntegerType(), False),\n",
    "        StructField('JourneyCode', FloatType(), True),\n",
    "        StructField('TravelTime', FloatType(), True),\n",
    "        StructField('ArrivalDifference', FloatType(), True),\n",
    "        StructField('DepartureDifference', FloatType(), True),\n",
    "        StructField('HourOfDay', IntegerType(), True),\n",
    "        StructField('ArrivalHour', IntegerType(), True),\n",
    "        StructField('DepartureHour', IntegerType(), True),\n",
    "        StructField('IsWeekend', IntegerType(), True),\n",
    "        StructField('AvgTravelTimeByJourney', FloatType(), True),\n",
    "    ]\n",
    ")"
   ]
  },
  {
   "cell_type": "code",
   "execution_count": 5,
   "metadata": {},
   "outputs": [],
   "source": [
    "#creating spark dataframe\n",
    "df = spark.read.format('csv').option('header', 'true')\\\n",
    "                .schema(schema).load('./engineered_data.csv')\n"
   ]
  },
  {
   "cell_type": "code",
   "execution_count": 6,
   "metadata": {},
   "outputs": [
    {
     "name": "stdout",
     "output_type": "stream",
     "text": [
      "root\n",
      " |-- id: integer (nullable = true)\n",
      " |-- JourneyCode: float (nullable = true)\n",
      " |-- TravelTime: float (nullable = true)\n",
      " |-- ArrivalDifference: float (nullable = true)\n",
      " |-- DepartureDifference: float (nullable = true)\n",
      " |-- HourOfDay: integer (nullable = true)\n",
      " |-- ArrivalHour: integer (nullable = true)\n",
      " |-- DepartureHour: integer (nullable = true)\n",
      " |-- IsWeekend: integer (nullable = true)\n",
      " |-- AvgTravelTimeByJourney: float (nullable = true)\n",
      "\n"
     ]
    }
   ],
   "source": [
    "df.printSchema() #schema of the dataframe"
   ]
  },
  {
   "cell_type": "code",
   "execution_count": 7,
   "metadata": {},
   "outputs": [
    {
     "name": "stdout",
     "output_type": "stream",
     "text": [
      "+---+-----------+----------+-----------------+-------------------+---------+-----------+-------------+---------+----------------------+\n",
      "| id|JourneyCode|TravelTime|ArrivalDifference|DepartureDifference|HourOfDay|ArrivalHour|DepartureHour|IsWeekend|AvgTravelTimeByJourney|\n",
      "+---+-----------+----------+-----------------+-------------------+---------+-----------+-------------+---------+----------------------+\n",
      "|  1|     1021.0|       9.3|            -0.15|              -9.45|        6|          6|            6|        0|                 5.575|\n",
      "|  2|     1021.0|      1.85|              0.7|              -0.15|        6|          6|            6|        0|                 5.575|\n",
      "|  3|     1053.0|       5.4|        1.0833334|         -4.3166666|        8|          8|            8|        0|                  3.85|\n",
      "|  4|     1053.0|       2.3|        2.3833334|          1.0833334|        8|          8|            8|        0|                  3.85|\n",
      "|  5|     1081.0|       0.0|            -7.55|              -7.55|       11|         11|           11|        0|             5.0416665|\n",
      "|  6|     1081.0| 10.083333|        1.5333333|              -7.55|       11|         11|           11|        0|             5.0416665|\n",
      "|  7|     1109.0|  9.416667|             1.55|          -7.866667|       13|         13|           13|        0|                 5.375|\n",
      "|  8|     1109.0| 1.3333334|        1.8833333|               1.55|       13|         13|           13|        0|                 5.375|\n",
      "|  9|     1145.0|  4.516667|              0.7|         -3.8166666|       15|         15|           15|        0|             3.1833334|\n",
      "| 10|     1145.0|      1.85|             1.55|                0.7|       15|         15|           15|        0|             3.1833334|\n",
      "| 11|     1173.0| 12.616667|       0.78333336|         -11.833333|       18|         18|           18|        0|              7.116667|\n",
      "| 12|     1173.0| 1.6166667|              1.4|         0.78333336|       18|         18|           18|        0|              7.116667|\n",
      "| 13|     1109.0|  9.933333|        2.1666667|          -7.766667|       13|         13|           13|        0|                 5.225|\n",
      "| 14|     1109.0|0.51666665|        1.6833333|          2.1666667|       13|         13|           13|        0|                 5.225|\n",
      "| 15|     1145.0|  8.566667|        1.4333333|          -7.133333|       15|         15|           15|        0|              4.491667|\n",
      "| 16|     1145.0|0.41666666|             0.85|          1.4333333|       15|         15|           15|        0|              4.491667|\n",
      "| 17|     1173.0|      7.35|             1.55|               -5.8|       18|         18|           18|        0|             3.9333334|\n",
      "| 18|     1173.0|0.51666665|        1.0666667|               1.55|       18|         18|           18|        0|             3.9333334|\n",
      "| 19|     1053.0|  9.383333|             2.55|         -6.8333335|        8|          8|            8|        0|              5.608333|\n",
      "| 20|     1053.0| 1.8333334|        3.3833334|               2.55|        9|          9|            8|        0|              5.608333|\n",
      "+---+-----------+----------+-----------------+-------------------+---------+-----------+-------------+---------+----------------------+\n",
      "only showing top 20 rows\n",
      "\n"
     ]
    }
   ],
   "source": [
    "\n",
    "df.show()"
   ]
  },
  {
   "cell_type": "code",
   "execution_count": 8,
   "metadata": {},
   "outputs": [],
   "source": [
    "#removing unnecessary columns to create attributes dataframes from extracted useful attributes in feature engineeering\n",
    "df_features = df.drop('TravelTime').drop('HourOfDay').drop('DepartureHour').drop('ArrivalDifference').drop('DepartureDifference').drop('JourneyCode')\n",
    "# .drop('id') # dropping the target variable and the other repititve features\n",
    "\n"
   ]
  },
  {
   "cell_type": "code",
   "execution_count": 9,
   "metadata": {},
   "outputs": [
    {
     "data": {
      "text/plain": [
       "['id', 'ArrivalHour', 'IsWeekend', 'AvgTravelTimeByJourney']"
      ]
     },
     "execution_count": 9,
     "metadata": {},
     "output_type": "execute_result"
    }
   ],
   "source": [
    "df_features.columns"
   ]
  },
  {
   "cell_type": "code",
   "execution_count": 10,
   "metadata": {},
   "outputs": [],
   "source": [
    "#creating the vector assembler\n",
    "feature_cols = df_features.columns\n",
    "\n",
    "# from pyspark.ml.feature import VectorAssembler\n",
    "# assembler = VectorAssembler(inputCols=feature_cols, outputCol='features')\n",
    "\n",
    "from pyspark.ml.feature import VectorAssembler\n",
    "assembler = VectorAssembler(\n",
    "    inputCols=[col for col in df_features.columns if col != 'id'], \n",
    "    outputCol='features'\n",
    ")\n",
    "\n",
    "df_features_and_values = assembler.transform(df_features)\n",
    "\n",
    "# dropping the rest of the column from the df_features dataframe after creating column with the feature_cols\n",
    "df_features = df_features_and_values.drop('JourneyCode').drop('TravelTime').drop('ArrivalDifference').drop('DepartureDifference').drop('ArrivalHour').drop('IsWeekend').drop('AvgTravelTimeByJourney')"
   ]
  },
  {
   "cell_type": "code",
   "execution_count": 11,
   "metadata": {},
   "outputs": [
    {
     "name": "stdout",
     "output_type": "stream",
     "text": [
      "+---+--------------------+\n",
      "| id|            features|\n",
      "+---+--------------------+\n",
      "|  1|[6.0,0.0,5.574999...|\n",
      "|  2|[6.0,0.0,5.574999...|\n",
      "|  3|[8.0,0.0,3.849999...|\n",
      "|  4|[8.0,0.0,3.849999...|\n",
      "|  5|[11.0,0.0,5.04166...|\n",
      "|  6|[11.0,0.0,5.04166...|\n",
      "|  7|    [13.0,0.0,5.375]|\n",
      "|  8|    [13.0,0.0,5.375]|\n",
      "|  9|[15.0,0.0,3.18333...|\n",
      "| 10|[15.0,0.0,3.18333...|\n",
      "| 11|[18.0,0.0,7.11666...|\n",
      "| 12|[18.0,0.0,7.11666...|\n",
      "| 13|[13.0,0.0,5.22499...|\n",
      "| 14|[13.0,0.0,5.22499...|\n",
      "| 15|[15.0,0.0,4.49166...|\n",
      "| 16|[15.0,0.0,4.49166...|\n",
      "| 17|[18.0,0.0,3.93333...|\n",
      "| 18|[18.0,0.0,3.93333...|\n",
      "| 19|[8.0,0.0,5.608333...|\n",
      "| 20|[9.0,0.0,5.608333...|\n",
      "+---+--------------------+\n",
      "only showing top 20 rows\n",
      "\n"
     ]
    }
   ],
   "source": [
    "df_features.show()"
   ]
  },
  {
   "cell_type": "code",
   "execution_count": 12,
   "metadata": {},
   "outputs": [
    {
     "name": "stdout",
     "output_type": "stream",
     "text": [
      "+---+-----------+---------+----------------------+--------------------+\n",
      "| id|ArrivalHour|IsWeekend|AvgTravelTimeByJourney|            features|\n",
      "+---+-----------+---------+----------------------+--------------------+\n",
      "|  1|          6|        0|                 5.575|[6.0,0.0,5.574999...|\n",
      "|  2|          6|        0|                 5.575|[6.0,0.0,5.574999...|\n",
      "|  3|          8|        0|                  3.85|[8.0,0.0,3.849999...|\n",
      "|  4|          8|        0|                  3.85|[8.0,0.0,3.849999...|\n",
      "|  5|         11|        0|             5.0416665|[11.0,0.0,5.04166...|\n",
      "|  6|         11|        0|             5.0416665|[11.0,0.0,5.04166...|\n",
      "|  7|         13|        0|                 5.375|    [13.0,0.0,5.375]|\n",
      "|  8|         13|        0|                 5.375|    [13.0,0.0,5.375]|\n",
      "|  9|         15|        0|             3.1833334|[15.0,0.0,3.18333...|\n",
      "| 10|         15|        0|             3.1833334|[15.0,0.0,3.18333...|\n",
      "| 11|         18|        0|              7.116667|[18.0,0.0,7.11666...|\n",
      "| 12|         18|        0|              7.116667|[18.0,0.0,7.11666...|\n",
      "| 13|         13|        0|                 5.225|[13.0,0.0,5.22499...|\n",
      "| 14|         13|        0|                 5.225|[13.0,0.0,5.22499...|\n",
      "| 15|         15|        0|              4.491667|[15.0,0.0,4.49166...|\n",
      "| 16|         15|        0|              4.491667|[15.0,0.0,4.49166...|\n",
      "| 17|         18|        0|             3.9333334|[18.0,0.0,3.93333...|\n",
      "| 18|         18|        0|             3.9333334|[18.0,0.0,3.93333...|\n",
      "| 19|          8|        0|              5.608333|[8.0,0.0,5.608333...|\n",
      "| 20|          9|        0|              5.608333|[9.0,0.0,5.608333...|\n",
      "+---+-----------+---------+----------------------+--------------------+\n",
      "only showing top 20 rows\n",
      "\n"
     ]
    }
   ],
   "source": [
    "df_features_and_values.show()"
   ]
  },
  {
   "cell_type": "code",
   "execution_count": 13,
   "metadata": {},
   "outputs": [
    {
     "name": "stdout",
     "output_type": "stream",
     "text": [
      "['id', 'ArrivalHour', 'IsWeekend', 'AvgTravelTimeByJourney']\n"
     ]
    }
   ],
   "source": [
    "print(feature_cols)"
   ]
  },
  {
   "cell_type": "code",
   "execution_count": 14,
   "metadata": {},
   "outputs": [
    {
     "name": "stdout",
     "output_type": "stream",
     "text": [
      "+---+--------------------+\n",
      "| id|            features|\n",
      "+---+--------------------+\n",
      "|  1|[6.0,0.0,5.574999...|\n",
      "|  2|[6.0,0.0,5.574999...|\n",
      "|  3|[8.0,0.0,3.849999...|\n",
      "|  4|[8.0,0.0,3.849999...|\n",
      "|  5|[11.0,0.0,5.04166...|\n",
      "|  6|[11.0,0.0,5.04166...|\n",
      "|  7|    [13.0,0.0,5.375]|\n",
      "|  8|    [13.0,0.0,5.375]|\n",
      "|  9|[15.0,0.0,3.18333...|\n",
      "| 10|[15.0,0.0,3.18333...|\n",
      "| 11|[18.0,0.0,7.11666...|\n",
      "| 12|[18.0,0.0,7.11666...|\n",
      "| 13|[13.0,0.0,5.22499...|\n",
      "| 14|[13.0,0.0,5.22499...|\n",
      "| 15|[15.0,0.0,4.49166...|\n",
      "| 16|[15.0,0.0,4.49166...|\n",
      "| 17|[18.0,0.0,3.93333...|\n",
      "| 18|[18.0,0.0,3.93333...|\n",
      "| 19|[8.0,0.0,5.608333...|\n",
      "| 20|[9.0,0.0,5.608333...|\n",
      "+---+--------------------+\n",
      "only showing top 20 rows\n",
      "\n"
     ]
    },
    {
     "name": "stderr",
     "output_type": "stream",
     "text": [
      "24/09/12 18:59:00 WARN GarbageCollectionMetrics: To enable non-built-in garbage collector(s) List(G1 Concurrent GC), users should configure it(them) to spark.eventLog.gcMetrics.youngGenerationGarbageCollectors or spark.eventLog.gcMetrics.oldGenerationGarbageCollectors\n"
     ]
    },
    {
     "data": {
      "text/plain": [
       "1771"
      ]
     },
     "execution_count": 14,
     "metadata": {},
     "output_type": "execute_result"
    }
   ],
   "source": [
    "df_features.show()\n",
    "df_features.count()"
   ]
  },
  {
   "cell_type": "code",
   "execution_count": 15,
   "metadata": {},
   "outputs": [
    {
     "name": "stdout",
     "output_type": "stream",
     "text": [
      "+---+----------------------------+--------------------------------------------+\n",
      "|id |features                    |scaled_features                             |\n",
      "+---+----------------------------+--------------------------------------------+\n",
      "|1  |[6.0,0.0,5.574999809265137] |[0.2608695652173913,0.0,0.470036086872814]  |\n",
      "|2  |[6.0,0.0,5.574999809265137] |[0.2608695652173913,0.0,0.470036086872814]  |\n",
      "|3  |[8.0,0.0,3.8499999046325684]|[0.34782608695652173,0.0,0.3205776104806935]|\n",
      "+---+----------------------------+--------------------------------------------+\n",
      "only showing top 3 rows\n",
      "\n"
     ]
    }
   ],
   "source": [
    "# scaling features\n",
    "from pyspark.ml.feature import MinMaxScaler\n",
    "scaler = MinMaxScaler(inputCol='features', outputCol='scaled_features')\n",
    "\n",
    "scaler_model =scaler.fit(df_features)\n",
    "\n",
    "df_scaled = scaler_model.transform(df_features)\n",
    "\n",
    "df_scaled.show(3, truncate=False)"
   ]
  },
  {
   "cell_type": "code",
   "execution_count": 16,
   "metadata": {},
   "outputs": [
    {
     "name": "stdout",
     "output_type": "stream",
     "text": [
      "+---+--------------------------------------------+\n",
      "|id |features                                    |\n",
      "+---+--------------------------------------------+\n",
      "|1  |[0.2608695652173913,0.0,0.470036086872814]  |\n",
      "|2  |[0.2608695652173913,0.0,0.470036086872814]  |\n",
      "|3  |[0.34782608695652173,0.0,0.3205776104806935]|\n",
      "+---+--------------------------------------------+\n",
      "only showing top 3 rows\n",
      "\n"
     ]
    }
   ],
   "source": [
    "# renaming the scaled_features as features\n",
    "df_scaled = df_scaled.drop('features')\n",
    "df_scaled = df_scaled.withColumnRenamed('scaled_features', 'features')\n",
    "\n",
    "df_scaled.show(3, truncate=False)"
   ]
  },
  {
   "cell_type": "code",
   "execution_count": 17,
   "metadata": {},
   "outputs": [
    {
     "name": "stdout",
     "output_type": "stream",
     "text": [
      "root\n",
      " |-- id: integer (nullable = true)\n",
      " |-- features: vector (nullable = true)\n",
      "\n"
     ]
    }
   ],
   "source": [
    "df_scaled.printSchema()"
   ]
  },
  {
   "cell_type": "code",
   "execution_count": 18,
   "metadata": {},
   "outputs": [
    {
     "data": {
      "text/plain": [
       "DataFrame[features: vector]"
      ]
     },
     "execution_count": 18,
     "metadata": {},
     "output_type": "execute_result"
    }
   ],
   "source": [
    "#caching data to prepare for multiple iterations\n",
    "df_features_only = df_scaled.drop('id')\n",
    "df_features_only.cache()"
   ]
  },
  {
   "cell_type": "code",
   "execution_count": 19,
   "metadata": {},
   "outputs": [
    {
     "name": "stderr",
     "output_type": "stream",
     "text": [
      "                                                                                \r"
     ]
    },
    {
     "data": {
      "text/plain": [
       "[DenseVector([0.7391, 0.0, 0.1388]),\n",
       " DenseVector([0.0, 0.0, 0.0204]),\n",
       " DenseVector([0.4783, 0.0, 0.129])]"
      ]
     },
     "execution_count": 19,
     "metadata": {},
     "output_type": "execute_result"
    }
   ],
   "source": [
    "#using the underlying rdd of the dataframe we already normalised\n",
    "data_rdd = df_features_only.rdd.map(lambda row: row['features']).cache() #collecting dataframe to the driver using map to take the vector inside Row Type\n",
    "\n",
    "#maintaininng centroids in the driver \n",
    "\n",
    "# Using takeSample function to randomly sampling the RDD\n",
    "k=3\n",
    "centroids = data_rdd.takeSample(False, k, 123456)\n",
    "centroids\n"
   ]
  },
  {
   "cell_type": "code",
   "execution_count": 20,
   "metadata": {},
   "outputs": [],
   "source": [
    "# converting centroids to numply arrays\n",
    "centroids =np.array(centroids)\n",
    "\n",
    "#broadcasting centroid to all workers to make accessible \n",
    "centroids_bc = sc.broadcast(centroids)"
   ]
  },
  {
   "cell_type": "code",
   "execution_count": 21,
   "metadata": {},
   "outputs": [],
   "source": [
    "def dist(a, b, axis=1):\n",
    "    return np.sqrt(np.sum((a - b)**2, axis=axis)) #axis calculates distance between each row or between two matrices\n"
   ]
  },
  {
   "cell_type": "code",
   "execution_count": 22,
   "metadata": {},
   "outputs": [],
   "source": [
    "#calculating the closest centroid for each element of the rdd.\n",
    "\n",
    "#function that takes instance and returns the index of the nearest centroid\n",
    "\n",
    "def nearest_centroid(vect):\n",
    "    return np.argmin(dist(centroids_bc.value, vect))\n"
   ]
  },
  {
   "cell_type": "code",
   "execution_count": 23,
   "metadata": {},
   "outputs": [],
   "source": [
    "# data_rdd.map(lambda vect: nearest_centroid(vect)).take(10)"
   ]
  },
  {
   "cell_type": "code",
   "execution_count": 24,
   "metadata": {},
   "outputs": [],
   "source": [
    "#obtaining nearest centroid and instance pair, and elements of data that belong to the same centroid\n",
    "\n",
    "closest = data_rdd.map(lambda p: (nearest_centroid(p), (1, p)))\n"
   ]
  },
  {
   "cell_type": "code",
   "execution_count": 25,
   "metadata": {},
   "outputs": [],
   "source": [
    "#using reduceByKey to aggregrate both elements of each example in that cluster and the total of elements\n",
    "new_centroids_rdd = closest.reduceByKey(lambda x, y: (x[0]+y[0], x[1]+y[1]))"
   ]
  },
  {
   "cell_type": "code",
   "execution_count": 26,
   "metadata": {},
   "outputs": [
    {
     "data": {
      "text/plain": [
       "array([[0.41684877, 0.03812825, 0.1640545 ],\n",
       "       [0.68960886, 0.        , 0.17974455],\n",
       "       [0.        , 0.        , 0.03156324]])"
      ]
     },
     "execution_count": 26,
     "metadata": {},
     "output_type": "execute_result"
    }
   ],
   "source": [
    "#computing centroids by dividing the aggregrated values by the count\n",
    "new_centroids = new_centroids_rdd.map(lambda x: x[1][1]/x[1][0]).collect()\n",
    "\n",
    "np.array(new_centroids)"
   ]
  },
  {
   "cell_type": "code",
   "execution_count": 27,
   "metadata": {},
   "outputs": [],
   "source": [
    "#creating a function that incoporates the process\n",
    "def mapReduce_distributed_kmeans(rdd, k, threshold=0.001, seed=12345):\n",
    "    #fix random seed\n",
    "    np.random.seed\n",
    "    #randomly choose k samples from the training data\n",
    "    centroids = data_rdd.takeSample(False, k, 123456)\n",
    "    #convert into np arrays\n",
    "    centroids =np.array(centroids)\n",
    "    converged = False\n",
    "    while not converged:\n",
    "        #broadcast the current centroids \n",
    "        centroids_bc = sc.broadcast(centroids)\n",
    "\n",
    "        #assigning each exapme to the nearest center\n",
    "        closest = data_rdd.map(lambda p: (nearest_centroid(p), (1, p)))\n",
    "\n",
    "        #creating new centroids \n",
    "        new_centroids_rdd = closest.reduceByKey(lambda x, y: (x[0]+y[0], x[1]+y[1]))\n",
    "\n",
    "        #collecting the aggregrated centroids to be converted to np arrays\n",
    "        new_centroids = new_centroids_rdd.map(lambda x: x[1][1]/x[1][0]).collect()\n",
    "\n",
    "        new_centroids = np.array(new_centroids)\n",
    "\n",
    "        # checking if converged \n",
    "        #compute difference between current and previous\n",
    "        diff = dist(new_centroids, centroids, axis =None) #computing difference between the new centroids and the old ones\n",
    "\n",
    "        if diff < threshold:\n",
    "            converged = True\n",
    "        else:\n",
    "            centroids = new_centroids\n",
    "    return centroids, closest\n",
    "\n",
    "    "
   ]
  },
  {
   "cell_type": "code",
   "execution_count": 28,
   "metadata": {},
   "outputs": [
    {
     "data": {
      "text/plain": [
       "array([[0.41684877, 0.03812825, 0.1640545 ],\n",
       "       [0.68960886, 0.        , 0.17974455],\n",
       "       [0.        , 0.        , 0.03156324]])"
      ]
     },
     "execution_count": 28,
     "metadata": {},
     "output_type": "execute_result"
    }
   ],
   "source": [
    "#obtaining centroids choosing 3 clusters based on selection from sihoulette score\n",
    "k=3\n",
    "centroids, c = mapReduce_distributed_kmeans(data_rdd, k)\n",
    "centroids"
   ]
  },
  {
   "cell_type": "code",
   "execution_count": 29,
   "metadata": {},
   "outputs": [
    {
     "name": "stdout",
     "output_type": "stream",
     "text": [
      "CPU times: user 30.5 ms, sys: 11.2 ms, total: 41.7 ms\n",
      "Wall time: 1.2 s\n"
     ]
    }
   ],
   "source": [
    "#testing for efficiency of the process.\n",
    "k=3\n",
    "%time centroids, c = mapReduce_distributed_kmeans(data_rdd, k)"
   ]
  },
  {
   "cell_type": "markdown",
   "metadata": {},
   "source": [
    "To add the predictions of clusters from the distributed K-Means process back into the original DataFrame that contains all your features"
   ]
  },
  {
   "cell_type": "code",
   "execution_count": 30,
   "metadata": {},
   "outputs": [
    {
     "name": "stderr",
     "output_type": "stream",
     "text": [
      "[Stage 36:=============================>                            (1 + 1) / 2]\r"
     ]
    },
    {
     "name": "stdout",
     "output_type": "stream",
     "text": [
      "+---+-----------+---------+----------------------+----------------------------+-------+\n",
      "|id |ArrivalHour|IsWeekend|AvgTravelTimeByJourney|features                    |cluster|\n",
      "+---+-----------+---------+----------------------+----------------------------+-------+\n",
      "|1  |6          |0        |5.575                 |[6.0,0.0,5.574999809265137] |2      |\n",
      "|3  |8          |0        |3.85                  |[8.0,0.0,3.8499999046325684]|2      |\n",
      "|5  |11         |0        |5.0416665             |[11.0,0.0,5.041666507720947]|2      |\n",
      "|7  |13         |0        |5.375                 |[13.0,0.0,5.375]            |2      |\n",
      "|9  |15         |0        |3.1833334             |[15.0,0.0,3.183333396911621]|0      |\n",
      "|11 |18         |0        |7.116667              |[18.0,0.0,7.116666793823242]|0      |\n",
      "|13 |13         |0        |5.225                 |[13.0,0.0,5.224999904632568]|2      |\n",
      "|15 |15         |0        |4.491667              |[15.0,0.0,4.491666793823242]|0      |\n",
      "|17 |18         |0        |3.9333334             |[18.0,0.0,3.933333396911621]|0      |\n",
      "|19 |8          |0        |5.608333              |[8.0,0.0,5.608333110809326] |2      |\n",
      "|21 |11         |0        |3.1833334             |[11.0,0.0,3.183333396911621]|2      |\n",
      "|23 |8          |0        |2.9666667             |[8.0,0.0,2.9666666984558105]|2      |\n",
      "|25 |11         |0        |5.0666666             |[11.0,0.0,5.066666603088379]|2      |\n",
      "|27 |18         |0        |8.166667              |[18.0,0.0,8.166666984558105]|0      |\n",
      "|29 |16         |0        |1.4138889             |[16.0,0.0,1.413888931274414]|0      |\n",
      "|31 |16         |0        |1.4138889             |[16.0,0.0,1.413888931274414]|0      |\n",
      "|33 |16         |0        |1.4138889             |[16.0,0.0,1.413888931274414]|0      |\n",
      "|35 |16         |0        |1.4138889             |[16.0,0.0,1.413888931274414]|0      |\n",
      "|37 |16         |0        |1.4138889             |[16.0,0.0,1.413888931274414]|0      |\n",
      "|39 |16         |0        |1.4138889             |[16.0,0.0,1.413888931274414]|0      |\n",
      "+---+-----------+---------+----------------------+----------------------------+-------+\n",
      "only showing top 20 rows\n",
      "\n"
     ]
    },
    {
     "name": "stderr",
     "output_type": "stream",
     "text": [
      "                                                                                \r"
     ]
    }
   ],
   "source": [
    "\n",
    "# Using the distributed K-Means function to get centroids and cluster assignments\n",
    "k = 3\n",
    "centroids, cluster_assignments_rdd = mapReduce_distributed_kmeans(data_rdd, k)\n",
    "\n",
    "# Each element of cluster_assignments_rdd is now (cluster_index, (1, point_vector))\n",
    "# using this to extract the cluster assignments\n",
    "\n",
    "# Extracting (point_index, cluster_index) pairs for joining back with original DataFrame\n",
    "\n",
    "cluster_assignments = cluster_assignments_rdd.map(lambda x: (x[0], x[1][1])).zipWithIndex().map(lambda x: (x[1], x[0][0]))\n",
    "\n",
    "# Converting cluster assignments RDD to DataFrame\n",
    "\n",
    "# Creating a schema for the DataFrame\n",
    "schema = StructType([\n",
    "    StructField(\"id\", IntegerType(), True),\n",
    "    StructField(\"cluster\", IntegerType(), True)\n",
    "])\n",
    "\n",
    "\n",
    "#converting the original DataFrame into an RDD with an index\n",
    "df_with_index = df_features_and_values.rdd.zipWithIndex().map(lambda x: (x[1], x[0]))\n",
    "\n",
    "# Joining the two RDDs on the index\n",
    "df_with_clusters_rdd = df_with_index.join(cluster_assignments)\n",
    "\n",
    "# Converting the resulting RDD to a DataFrame\n",
    "df_with_clusters = df_with_clusters_rdd.map(lambda x: (x[1][0]['id'], int(x[1][1]))).toDF(schema)\n",
    "\n",
    "# Step 3: Join the clusters DataFrame with the original DataFrame\n",
    "\n",
    "# Join on the 'id' column\n",
    "df_final = df_features_and_values.join(df_with_clusters, on='id')\n",
    "\n",
    "# Show the final DataFrame with features and cluster assignments\n",
    "df_final.show(truncate=False)\n"
   ]
  },
  {
   "cell_type": "markdown",
   "metadata": {},
   "source": [
    "Visualizing the feature pairs with predicted clusters."
   ]
  },
  {
   "cell_type": "code",
   "execution_count": 31,
   "metadata": {},
   "outputs": [
    {
     "name": "stderr",
     "output_type": "stream",
     "text": [
      "                                                                                \r"
     ]
    },
    {
     "data": {
      "image/png": "[encoded data removed]",
      "text/plain": [
       "<Figure size 1500x500 with 3 Axes>"
      ]
     },
     "metadata": {},
     "output_type": "display_data"
    }
   ],
   "source": [
    "import matplotlib.pyplot as plt\n",
    "from itertools import combinations\n",
    "\n",
    "# Convert your Spark DataFrame to Pandas for easier plotting\n",
    "pandas_df = df_final.select(\n",
    "     'ArrivalHour', 'IsWeekend', 'AvgTravelTimeByJourney',  'cluster'\n",
    ").toPandas()\n",
    "\n",
    "# Define a color map for the clusters\n",
    "colors = ['blue', 'green', 'cyan', 'purple', 'orange']  # Adjust the number of colors to match the number of clusters\n",
    "\n",
    "# List of features to plot in pairs\n",
    "features = ['ArrivalHour', 'IsWeekend', 'AvgTravelTimeByJourney']\n",
    "\n",
    "# Set the number of rows and columns for the grid layout\n",
    "n_cols = 3  # Number of plots in each row\n",
    "n_rows = (len(list(combinations(features, 2))) + n_cols - 1) // n_cols  # Dynamically calculate rows\n",
    "\n",
    "# Create a figure with a grid of subplots\n",
    "fig, axes = plt.subplots(n_rows, n_cols, figsize=(15, 5 * n_rows))\n",
    "axes = axes.ravel()  # Flatten the axes array for easier indexing\n",
    "\n",
    "# Loop through each pair of features using combinations\n",
    "for idx, feature_pair in enumerate(combinations(features, 2)):\n",
    "    \n",
    "    ax = axes[idx]  # Get the current axis\n",
    "    # Plot each cluster in a different color\n",
    "    for cluster in pandas_df['cluster'].unique():\n",
    "        data = pandas_df[pandas_df['cluster'] == cluster]\n",
    "        ax.scatter(data[feature_pair[0]], data[feature_pair[1]], \n",
    "                   c=colors[cluster], label=f'Cluster {cluster}', alpha=0.6)\n",
    "    \n",
    "    # Adding title and labels\n",
    "    ax.set_title(f'Cluster Plot: {feature_pair[0]} vs {feature_pair[1]}')\n",
    "    ax.set_xlabel(feature_pair[0])\n",
    "    ax.set_ylabel(feature_pair[1])\n",
    "    \n",
    "    # Adding a legend only for the first subplot\n",
    "    if idx == 0:\n",
    "        ax.legend()\n",
    "\n",
    "# Hide any remaining empty subplots (if any)\n",
    "for j in range(idx + 1, len(axes)):\n",
    "    fig.delaxes(axes[j])\n",
    "\n",
    "# Adjust layout to prevent overlapping\n",
    "plt.tight_layout()\n",
    "\n",
    "# Display the grid of plots\n",
    "plt.show()\n"
   ]
  },
  {
   "cell_type": "code",
   "execution_count": 32,
   "metadata": {},
   "outputs": [
    {
     "name": "stdout",
     "output_type": "stream",
     "text": [
      "+-------+-----+\n",
      "|cluster|count|\n",
      "+-------+-----+\n",
      "|      1|  935|\n",
      "|      2|  577|\n",
      "|      0|  259|\n",
      "+-------+-----+\n",
      "\n"
     ]
    }
   ],
   "source": [
    "df_final.groupBy('cluster').count().show()"
   ]
  },
  {
   "cell_type": "code",
   "execution_count": 33,
   "metadata": {},
   "outputs": [
    {
     "name": "stdout",
     "output_type": "stream",
     "text": [
      "+---+-----------+---------+----------------------+--------------------+-------+\n",
      "| id|ArrivalHour|IsWeekend|AvgTravelTimeByJourney|            features|cluster|\n",
      "+---+-----------+---------+----------------------+--------------------+-------+\n",
      "|  1|          6|        0|                 5.575|[6.0,0.0,5.574999...|      2|\n",
      "|  3|          8|        0|                  3.85|[8.0,0.0,3.849999...|      2|\n",
      "|  5|         11|        0|             5.0416665|[11.0,0.0,5.04166...|      2|\n",
      "|  7|         13|        0|                 5.375|    [13.0,0.0,5.375]|      2|\n",
      "|  9|         15|        0|             3.1833334|[15.0,0.0,3.18333...|      0|\n",
      "| 11|         18|        0|              7.116667|[18.0,0.0,7.11666...|      0|\n",
      "| 13|         13|        0|                 5.225|[13.0,0.0,5.22499...|      2|\n",
      "| 15|         15|        0|              4.491667|[15.0,0.0,4.49166...|      0|\n",
      "| 17|         18|        0|             3.9333334|[18.0,0.0,3.93333...|      0|\n",
      "| 19|          8|        0|              5.608333|[8.0,0.0,5.608333...|      2|\n",
      "| 21|         11|        0|             3.1833334|[11.0,0.0,3.18333...|      2|\n",
      "| 23|          8|        0|             2.9666667|[8.0,0.0,2.966666...|      2|\n",
      "| 25|         11|        0|             5.0666666|[11.0,0.0,5.06666...|      2|\n",
      "| 27|         18|        0|              8.166667|[18.0,0.0,8.16666...|      0|\n",
      "| 29|         16|        0|             1.4138889|[16.0,0.0,1.41388...|      0|\n",
      "| 31|         16|        0|             1.4138889|[16.0,0.0,1.41388...|      0|\n",
      "| 33|         16|        0|             1.4138889|[16.0,0.0,1.41388...|      0|\n",
      "| 35|         16|        0|             1.4138889|[16.0,0.0,1.41388...|      0|\n",
      "| 37|         16|        0|             1.4138889|[16.0,0.0,1.41388...|      0|\n",
      "| 39|         16|        0|             1.4138889|[16.0,0.0,1.41388...|      0|\n",
      "+---+-----------+---------+----------------------+--------------------+-------+\n",
      "only showing top 20 rows\n",
      "\n"
     ]
    }
   ],
   "source": [
    "df_final.show()"
   ]
  },
  {
   "cell_type": "code",
   "execution_count": 34,
   "metadata": {},
   "outputs": [
    {
     "name": "stderr",
     "output_type": "stream",
     "text": [
      "24/09/12 18:59:16 WARN InstanceBuilder: Failed to load implementation from:dev.ludovic.netlib.blas.JNIBLAS\n",
      "24/09/12 18:59:16 WARN InstanceBuilder: Failed to load implementation from:dev.ludovic.netlib.blas.VectorBLAS\n"
     ]
    },
    {
     "name": "stdout",
     "output_type": "stream",
     "text": [
      "Silhouette Score for Train Data: 0.8400969663749458\n"
     ]
    }
   ],
   "source": [
    "\n",
    "from pyspark.ml.evaluation import ClusteringEvaluator\n",
    "\n",
    "# Initialize the ClusteringEvaluator\n",
    "evaluator = ClusteringEvaluator(featuresCol='features', predictionCol='cluster', metricName='silhouette', distanceMeasure='squaredEuclidean')\n",
    "\n",
    "# Evaluate the clustering performance on test data\n",
    "silhouette_score_test = evaluator.evaluate(df_final)\n",
    "\n",
    "print(f'Silhouette Score for Train Data: {silhouette_score_test}')\n"
   ]
  },
  {
   "cell_type": "code",
   "execution_count": 35,
   "metadata": {},
   "outputs": [
    {
     "name": "stdout",
     "output_type": "stream",
     "text": [
      "+---+-----------+---------+----------------------+--------------------+-------+----------+\n",
      "| id|ArrivalHour|IsWeekend|AvgTravelTimeByJourney|            features|cluster|TravelTime|\n",
      "+---+-----------+---------+----------------------+--------------------+-------+----------+\n",
      "|  1|          6|        0|                 5.575|[6.0,0.0,5.574999...|      2|       9.3|\n",
      "|  3|          8|        0|                  3.85|[8.0,0.0,3.849999...|      2|       5.4|\n",
      "|  5|         11|        0|             5.0416665|[11.0,0.0,5.04166...|      2|       0.0|\n",
      "|  7|         13|        0|                 5.375|    [13.0,0.0,5.375]|      2|  9.416667|\n",
      "|  9|         15|        0|             3.1833334|[15.0,0.0,3.18333...|      0|  4.516667|\n",
      "| 11|         18|        0|              7.116667|[18.0,0.0,7.11666...|      0| 12.616667|\n",
      "| 13|         13|        0|                 5.225|[13.0,0.0,5.22499...|      2|  9.933333|\n",
      "| 15|         15|        0|              4.491667|[15.0,0.0,4.49166...|      0|  8.566667|\n",
      "| 17|         18|        0|             3.9333334|[18.0,0.0,3.93333...|      0|      7.35|\n",
      "| 19|          8|        0|              5.608333|[8.0,0.0,5.608333...|      2|  9.383333|\n",
      "| 21|         11|        0|             3.1833334|[11.0,0.0,3.18333...|      2|      5.35|\n",
      "| 23|          8|        0|             2.9666667|[8.0,0.0,2.966666...|      2|       5.1|\n",
      "| 25|         11|        0|             5.0666666|[11.0,0.0,5.06666...|      2|  8.633333|\n",
      "| 27|         18|        0|              8.166667|[18.0,0.0,8.16666...|      0| 14.666667|\n",
      "| 29|         16|        0|             1.4138889|[16.0,0.0,1.41388...|      0|       0.0|\n",
      "| 31|         16|        0|             1.4138889|[16.0,0.0,1.41388...|      0|       0.8|\n",
      "| 33|         16|        0|             1.4138889|[16.0,0.0,1.41388...|      0|0.21666667|\n",
      "| 35|         16|        0|             1.4138889|[16.0,0.0,1.41388...|      0| 4.4333334|\n",
      "| 37|         16|        0|             1.4138889|[16.0,0.0,1.41388...|      0| 1.5166667|\n",
      "| 39|         16|        0|             1.4138889|[16.0,0.0,1.41388...|      0| 1.8166667|\n",
      "+---+-----------+---------+----------------------+--------------------+-------+----------+\n",
      "only showing top 20 rows\n",
      "\n"
     ]
    }
   ],
   "source": [
    "# # Perform the join to add the 'TravelTime' column back into df_with_clusters\n",
    "train_df_final = df_final.join(df.select(\"id\", \"TravelTime\"), on=\"id\", how=\"inner\")\n",
    "train_df_final.show()\n"
   ]
  },
  {
   "cell_type": "code",
   "execution_count": 36,
   "metadata": {},
   "outputs": [
    {
     "name": "stderr",
     "output_type": "stream",
     "text": [
      "[Stage 67:=============================>                            (1 + 1) / 2]\r"
     ]
    },
    {
     "name": "stdout",
     "output_type": "stream",
     "text": [
      "+----------+\n",
      "|TravelTime|\n",
      "+----------+\n",
      "|5.85      |\n",
      "|1.8666667 |\n",
      "|2.6666667 |\n",
      "|8.333333  |\n",
      "|7.4333334 |\n",
      "|0.56666666|\n",
      "|7.7166667 |\n",
      "|4.95      |\n",
      "|0.78333336|\n",
      "|7.05      |\n",
      "|3.3333333 |\n",
      "|0.6333333 |\n",
      "|2.3666666 |\n",
      "|5.5       |\n",
      "|1.8166667 |\n",
      "|2.5       |\n",
      "|2.7833333 |\n",
      "|1.9666667 |\n",
      "|5.6833334 |\n",
      "|0.73333335|\n",
      "+----------+\n",
      "only showing top 20 rows\n",
      "\n"
     ]
    },
    {
     "name": "stderr",
     "output_type": "stream",
     "text": [
      "                                                                                \r"
     ]
    }
   ],
   "source": [
    "# Select the 'TravelTime' column and get distinct values\n",
    "unique_travel_times = train_df_final.select(\"TravelTime\").distinct()\n",
    "\n",
    "# Show the unique values\n",
    "unique_travel_times.show(truncate=False)"
   ]
  },
  {
   "cell_type": "code",
   "execution_count": 37,
   "metadata": {},
   "outputs": [
    {
     "name": "stdout",
     "output_type": "stream",
     "text": [
      "+---+-----------+---------+----------------------+--------------------+-------+----------+\n",
      "| id|ArrivalHour|IsWeekend|AvgTravelTimeByJourney|            features|cluster|TravelTime|\n",
      "+---+-----------+---------+----------------------+--------------------+-------+----------+\n",
      "|  1|          6|        0|                 5.575|[6.0,0.0,5.574999...|      2|       9.3|\n",
      "|  3|          8|        0|                  3.85|[8.0,0.0,3.849999...|      2|       5.4|\n",
      "|  5|         11|        0|             5.0416665|[11.0,0.0,5.04166...|      2|       0.0|\n",
      "|  7|         13|        0|                 5.375|    [13.0,0.0,5.375]|      2|  9.416667|\n",
      "|  9|         15|        0|             3.1833334|[15.0,0.0,3.18333...|      0|  4.516667|\n",
      "| 11|         18|        0|              7.116667|[18.0,0.0,7.11666...|      0| 12.616667|\n",
      "| 13|         13|        0|                 5.225|[13.0,0.0,5.22499...|      2|  9.933333|\n",
      "| 15|         15|        0|              4.491667|[15.0,0.0,4.49166...|      0|  8.566667|\n",
      "| 17|         18|        0|             3.9333334|[18.0,0.0,3.93333...|      0|      7.35|\n",
      "| 19|          8|        0|              5.608333|[8.0,0.0,5.608333...|      2|  9.383333|\n",
      "| 21|         11|        0|             3.1833334|[11.0,0.0,3.18333...|      2|      5.35|\n",
      "| 23|          8|        0|             2.9666667|[8.0,0.0,2.966666...|      2|       5.1|\n",
      "| 25|         11|        0|             5.0666666|[11.0,0.0,5.06666...|      2|  8.633333|\n",
      "| 27|         18|        0|              8.166667|[18.0,0.0,8.16666...|      0| 14.666667|\n",
      "| 29|         16|        0|             1.4138889|[16.0,0.0,1.41388...|      0|       0.0|\n",
      "| 31|         16|        0|             1.4138889|[16.0,0.0,1.41388...|      0|       0.8|\n",
      "| 33|         16|        0|             1.4138889|[16.0,0.0,1.41388...|      0|0.21666667|\n",
      "| 35|         16|        0|             1.4138889|[16.0,0.0,1.41388...|      0| 4.4333334|\n",
      "| 37|         16|        0|             1.4138889|[16.0,0.0,1.41388...|      0| 1.5166667|\n",
      "| 39|         16|        0|             1.4138889|[16.0,0.0,1.41388...|      0| 1.8166667|\n",
      "+---+-----------+---------+----------------------+--------------------+-------+----------+\n",
      "only showing top 20 rows\n",
      "\n"
     ]
    }
   ],
   "source": [
    "train_df_final.show()"
   ]
  },
  {
   "cell_type": "markdown",
   "metadata": {},
   "source": [
    "Kmeans and ANN prediction on test data"
   ]
  },
  {
   "cell_type": "code",
   "execution_count": 38,
   "metadata": {},
   "outputs": [],
   "source": [
    "# reading data schema\n",
    "from pyspark.sql.types import *\n",
    "schema  = StructType(\n",
    "    [   \n",
    "        StructField('id', IntegerType(), False),\n",
    "        StructField('JourneyCode', FloatType(), True),\n",
    "        StructField('TravelTime', FloatType(), True),\n",
    "        StructField('ArrivalDifference', FloatType(), True),\n",
    "        StructField('DepartureDifference', FloatType(), True),\n",
    "        StructField('HourOfDay', IntegerType(), True),\n",
    "        StructField('ArrivalHour', IntegerType(), True),\n",
    "        StructField('DepartureHour', IntegerType(), True),\n",
    "        StructField('IsWeekend', IntegerType(), True),\n",
    "        StructField('AvgTravelTimeByJourney', FloatType(), True),\n",
    "    ]\n",
    ")\n",
    "\n",
    "#fetching test data feature engineering stage.\n",
    "test_df = spark.read.format('csv').option('header', 'true')\\\n",
    "                .schema(schema).load('./Updated_test_data.csv')"
   ]
  },
  {
   "cell_type": "code",
   "execution_count": 39,
   "metadata": {},
   "outputs": [
    {
     "name": "stdout",
     "output_type": "stream",
     "text": [
      "root\n",
      " |-- id: integer (nullable = true)\n",
      " |-- JourneyCode: float (nullable = true)\n",
      " |-- TravelTime: float (nullable = true)\n",
      " |-- ArrivalDifference: float (nullable = true)\n",
      " |-- DepartureDifference: float (nullable = true)\n",
      " |-- HourOfDay: integer (nullable = true)\n",
      " |-- ArrivalHour: integer (nullable = true)\n",
      " |-- DepartureHour: integer (nullable = true)\n",
      " |-- IsWeekend: integer (nullable = true)\n",
      " |-- AvgTravelTimeByJourney: float (nullable = true)\n",
      "\n"
     ]
    }
   ],
   "source": [
    "test_df.printSchema()"
   ]
  },
  {
   "cell_type": "code",
   "execution_count": 40,
   "metadata": {},
   "outputs": [
    {
     "name": "stdout",
     "output_type": "stream",
     "text": [
      "+---+-----------+----------+-----------------+-------------------+---------+-----------+-------------+---------+----------------------+\n",
      "| id|JourneyCode|TravelTime|ArrivalDifference|DepartureDifference|HourOfDay|ArrivalHour|DepartureHour|IsWeekend|AvgTravelTimeByJourney|\n",
      "+---+-----------+----------+-----------------+-------------------+---------+-----------+-------------+---------+----------------------+\n",
      "|  1|     1053.0|       3.2|              1.8|               -1.4|        8|          8|            8|        0|             2.6083333|\n",
      "|  2|     1053.0| 2.0166667|        2.8166666|                1.8|        8|          8|            8|        0|             2.6083333|\n",
      "|  3|     1081.0|  4.383333|       0.53333336|              -3.85|       11|         11|           11|        0|             2.5583334|\n",
      "|  4|     1081.0|0.73333335|       0.26666668|         0.53333336|       11|         11|           11|        0|             2.5583334|\n",
      "|  5|     1109.0|       9.7|        3.8666666|         -5.8333335|       13|         13|           13|        0|                 5.475|\n",
      "|  6|     1109.0|      1.25|         4.116667|          3.8666666|       13|         13|           13|        0|                 5.475|\n",
      "|  7|     1145.0|       0.0|        7.1666665|          7.1666665|       16|         16|           16|        0|                   0.5|\n",
      "|  8|     1145.0|       1.0|        7.1666665|          7.1666665|       16|         16|           16|        0|                   0.5|\n",
      "|  9|     1173.0| 6.7833333|             1.35|         -5.4333334|       18|         18|           18|        0|             3.3916667|\n",
      "| 10|     1173.0|       0.0|             0.35|               1.35|       18|         18|           18|        0|             3.3916667|\n",
      "| 11|     1053.0|       0.0|       -3.0833333|         -3.0833333|        8|          8|            8|        0|             3.1666667|\n",
      "| 12|     1053.0| 6.3333335|             2.25|         -3.0833333|        8|          8|            8|        0|             3.1666667|\n",
      "| 13|     1081.0|       0.0|       -3.9166667|         -3.9166667|       11|         11|           11|        0|             4.5583334|\n",
      "| 14|     1081.0|  9.116667|              4.2|         -3.9166667|       11|         11|           11|        0|             4.5583334|\n",
      "| 15|     3045.0|      0.25|            31.35|               32.1|       12|         12|           12|        1|                  0.25|\n",
      "| 16|     1081.0| 3.8166666|      -0.06666667|         -3.8833334|       11|         11|           11|        0|             3.1583333|\n",
      "| 17|     1081.0|       2.5|        1.4333333|        -0.06666667|       11|         11|           11|        0|             3.1583333|\n",
      "| 18|     1109.0|       0.0|       0.93333334|         0.93333334|       13|         13|           13|        0|             1.5583333|\n",
      "| 19|     1109.0| 3.1166666|             3.05|         0.93333334|       13|         13|           13|        0|             1.5583333|\n",
      "| 20|     1153.0| 3.8166666|            -8.65|         -5.4666667|       16|         16|           16|        0|                1.1125|\n",
      "+---+-----------+----------+-----------------+-------------------+---------+-----------+-------------+---------+----------------------+\n",
      "only showing top 20 rows\n",
      "\n"
     ]
    }
   ],
   "source": [
    "test_df.show()"
   ]
  },
  {
   "cell_type": "code",
   "execution_count": 41,
   "metadata": {},
   "outputs": [],
   "source": [
    "#removing unnecessary columns to create attributes dataframes from extracted useful attributes in feature engineeering\n",
    "test_df_features = test_df.drop('TravelTime').drop('HourOfDay').drop('DepartureHour').drop('ArrivalDifference').drop('DepartureDifference').drop('JourneyCode')\n",
    "# dropping the target variable and the other repititve features\n"
   ]
  },
  {
   "cell_type": "code",
   "execution_count": 42,
   "metadata": {},
   "outputs": [
    {
     "data": {
      "text/plain": [
       "['id', 'ArrivalHour', 'IsWeekend', 'AvgTravelTimeByJourney']"
      ]
     },
     "execution_count": 42,
     "metadata": {},
     "output_type": "execute_result"
    }
   ],
   "source": [
    "test_df_features.columns"
   ]
  },
  {
   "cell_type": "code",
   "execution_count": 43,
   "metadata": {},
   "outputs": [],
   "source": [
    "#creating the vector assembler\n",
    "test_feature_cols = test_df_features.columns"
   ]
  },
  {
   "cell_type": "code",
   "execution_count": 44,
   "metadata": {},
   "outputs": [],
   "source": [
    "from pyspark.ml.feature import VectorAssembler\n",
    "test_assembler = VectorAssembler(\n",
    "    inputCols=[col for col in test_df_features.columns if col != 'id'], \n",
    "    outputCol='features'\n",
    ")\n",
    "\n",
    "test_df_features_and_values = test_assembler.transform(test_df_features)\n",
    "\n",
    "# dropping the rest of the column from the df_features dataframe after creating column with the feature_cols\n",
    "test_df_features = test_df_features_and_values.drop('JourneyCode').drop('TravelTime').drop('ArrivalDifference').drop('DepartureDifference').drop('ArrivalHour').drop('IsWeekend').drop('AvgTravelTimeByJourney')"
   ]
  },
  {
   "cell_type": "code",
   "execution_count": 45,
   "metadata": {},
   "outputs": [
    {
     "name": "stdout",
     "output_type": "stream",
     "text": [
      "+---+--------------------+\n",
      "| id|            features|\n",
      "+---+--------------------+\n",
      "|  1|[8.0,0.0,2.608333...|\n",
      "|  2|[8.0,0.0,2.608333...|\n",
      "|  3|[11.0,0.0,2.55833...|\n",
      "|  4|[11.0,0.0,2.55833...|\n",
      "|  5|[13.0,0.0,5.47499...|\n",
      "|  6|[13.0,0.0,5.47499...|\n",
      "|  7|      [16.0,0.0,0.5]|\n",
      "|  8|      [16.0,0.0,0.5]|\n",
      "|  9|[18.0,0.0,3.39166...|\n",
      "| 10|[18.0,0.0,3.39166...|\n",
      "| 11|[8.0,0.0,3.166666...|\n",
      "| 12|[8.0,0.0,3.166666...|\n",
      "| 13|[11.0,0.0,4.55833...|\n",
      "| 14|[11.0,0.0,4.55833...|\n",
      "| 15|     [12.0,1.0,0.25]|\n",
      "| 16|[11.0,0.0,3.15833...|\n",
      "| 17|[11.0,0.0,3.15833...|\n",
      "| 18|[13.0,0.0,1.55833...|\n",
      "| 19|[13.0,0.0,1.55833...|\n",
      "| 20|[16.0,0.0,1.11249...|\n",
      "+---+--------------------+\n",
      "only showing top 20 rows\n",
      "\n"
     ]
    },
    {
     "data": {
      "text/plain": [
       "992"
      ]
     },
     "execution_count": 45,
     "metadata": {},
     "output_type": "execute_result"
    }
   ],
   "source": [
    "test_df_features_and_values.columns\n",
    "test_df_features.columns\n",
    "test_df_features.show()\n",
    "test_df_features.count()"
   ]
  },
  {
   "cell_type": "code",
   "execution_count": 46,
   "metadata": {},
   "outputs": [
    {
     "name": "stdout",
     "output_type": "stream",
     "text": [
      "+---+----------------------------+--------------------------------------------+\n",
      "|id |features                    |scaled_features                             |\n",
      "+---+----------------------------+--------------------------------------------+\n",
      "|1  |[8.0,0.0,2.6083333492279053]|[0.4444444444444444,0.0,0.08675659447392786]|\n",
      "|2  |[8.0,0.0,2.6083333492279053]|[0.4444444444444444,0.0,0.08675659447392786]|\n",
      "|3  |[11.0,0.0,2.558333396911621]|[0.611111111111111,0.0,0.08491723381346832] |\n",
      "+---+----------------------------+--------------------------------------------+\n",
      "only showing top 3 rows\n",
      "\n"
     ]
    }
   ],
   "source": [
    "from pyspark.ml.feature import MinMaxScaler\n",
    "test_scaler = MinMaxScaler(inputCol='features', outputCol='scaled_features')\n",
    "\n",
    "scaler_model =test_scaler.fit(test_df_features)\n",
    "\n",
    "test_df_scaled = scaler_model.transform(test_df_features)\n",
    "\n",
    "test_df_scaled.show(3, truncate=False)"
   ]
  },
  {
   "cell_type": "code",
   "execution_count": 47,
   "metadata": {},
   "outputs": [
    {
     "name": "stdout",
     "output_type": "stream",
     "text": [
      "+---+--------------------------------------------+\n",
      "|id |features                                    |\n",
      "+---+--------------------------------------------+\n",
      "|1  |[0.4444444444444444,0.0,0.08675659447392786]|\n",
      "|2  |[0.4444444444444444,0.0,0.08675659447392786]|\n",
      "|3  |[0.611111111111111,0.0,0.08491723381346832] |\n",
      "+---+--------------------------------------------+\n",
      "only showing top 3 rows\n",
      "\n"
     ]
    }
   ],
   "source": [
    "test_df_scaled = test_df_scaled.drop('features')\n",
    "test_df_scaled = test_df_scaled.withColumnRenamed('scaled_features', 'features')\n",
    "\n",
    "test_df_scaled.show(3, truncate=False)"
   ]
  },
  {
   "cell_type": "code",
   "execution_count": 48,
   "metadata": {},
   "outputs": [
    {
     "name": "stdout",
     "output_type": "stream",
     "text": [
      "root\n",
      " |-- id: integer (nullable = true)\n",
      " |-- features: vector (nullable = true)\n",
      "\n"
     ]
    }
   ],
   "source": [
    "test_df_scaled.printSchema()"
   ]
  },
  {
   "cell_type": "code",
   "execution_count": 49,
   "metadata": {},
   "outputs": [
    {
     "name": "stdout",
     "output_type": "stream",
     "text": [
      "+---+---------------------------------------------+-----------------+\n",
      "|id |features                                     |predicted_cluster|\n",
      "+---+---------------------------------------------+-----------------+\n",
      "|1  |[0.4444444444444444,0.0,0.08675659447392786] |0                |\n",
      "|2  |[0.4444444444444444,0.0,0.08675659447392786] |0                |\n",
      "|3  |[0.611111111111111,0.0,0.08491723381346832]  |1                |\n",
      "|4  |[0.611111111111111,0.0,0.08491723381346832]  |1                |\n",
      "|5  |[0.7222222222222222,0.0,0.1922133688186729]  |1                |\n",
      "|6  |[0.7222222222222222,0.0,0.1922133688186729]  |1                |\n",
      "|7  |[0.8888888888888888,0.0,0.009196812073061162]|1                |\n",
      "|8  |[0.8888888888888888,0.0,0.009196812073061162]|1                |\n",
      "|9  |[1.0,0.0,0.1155732711334177]                 |1                |\n",
      "|10 |[1.0,0.0,0.1155732711334177]                 |1                |\n",
      "|11 |[0.4444444444444444,0.0,0.10729614377596804] |0                |\n",
      "|12 |[0.4444444444444444,0.0,0.10729614377596804] |0                |\n",
      "|13 |[0.611111111111111,0.0,0.1584917303979576]   |1                |\n",
      "|14 |[0.611111111111111,0.0,0.1584917303979576]   |1                |\n",
      "|15 |[0.6666666666666666,1.0,0.0]                 |0                |\n",
      "|16 |[0.611111111111111,0.0,0.10698957928050971]  |1                |\n",
      "|17 |[0.611111111111111,0.0,0.10698957928050971]  |1                |\n",
      "|18 |[0.7222222222222222,0.0,0.04812998113584194] |1                |\n",
      "|19 |[0.7222222222222222,0.0,0.04812998113584194] |1                |\n",
      "|20 |[0.8888888888888888,0.0,0.03172899989790831] |1                |\n",
      "+---+---------------------------------------------+-----------------+\n",
      "only showing top 20 rows\n",
      "\n"
     ]
    },
    {
     "name": "stderr",
     "output_type": "stream",
     "text": [
      "[Stage 88:>                                                         (0 + 1) / 1]\r"
     ]
    },
    {
     "name": "stdout",
     "output_type": "stream",
     "text": [
      "+---+-----------+---------+----------------------+--------------------+-----------------+\n",
      "| id|ArrivalHour|IsWeekend|AvgTravelTimeByJourney|            features|predicted_cluster|\n",
      "+---+-----------+---------+----------------------+--------------------+-----------------+\n",
      "|  1|          8|        0|             2.6083333|[8.0,0.0,2.608333...|                0|\n",
      "|  2|          8|        0|             2.6083333|[8.0,0.0,2.608333...|                0|\n",
      "|  3|         11|        0|             2.5583334|[11.0,0.0,2.55833...|                1|\n",
      "|  4|         11|        0|             2.5583334|[11.0,0.0,2.55833...|                1|\n",
      "|  5|         13|        0|                 5.475|[13.0,0.0,5.47499...|                1|\n",
      "|  6|         13|        0|                 5.475|[13.0,0.0,5.47499...|                1|\n",
      "|  7|         16|        0|                   0.5|      [16.0,0.0,0.5]|                1|\n",
      "|  8|         16|        0|                   0.5|      [16.0,0.0,0.5]|                1|\n",
      "|  9|         18|        0|             3.3916667|[18.0,0.0,3.39166...|                1|\n",
      "| 10|         18|        0|             3.3916667|[18.0,0.0,3.39166...|                1|\n",
      "| 11|          8|        0|             3.1666667|[8.0,0.0,3.166666...|                0|\n",
      "| 12|          8|        0|             3.1666667|[8.0,0.0,3.166666...|                0|\n",
      "| 13|         11|        0|             4.5583334|[11.0,0.0,4.55833...|                1|\n",
      "| 14|         11|        0|             4.5583334|[11.0,0.0,4.55833...|                1|\n",
      "| 15|         12|        1|                  0.25|     [12.0,1.0,0.25]|                0|\n",
      "| 16|         11|        0|             3.1583333|[11.0,0.0,3.15833...|                1|\n",
      "| 17|         11|        0|             3.1583333|[11.0,0.0,3.15833...|                1|\n",
      "| 18|         13|        0|             1.5583333|[13.0,0.0,1.55833...|                1|\n",
      "| 19|         13|        0|             1.5583333|[13.0,0.0,1.55833...|                1|\n",
      "| 20|         16|        0|                1.1125|[16.0,0.0,1.11249...|                1|\n",
      "+---+-----------+---------+----------------------+--------------------+-----------------+\n",
      "only showing top 20 rows\n",
      "\n"
     ]
    },
    {
     "name": "stderr",
     "output_type": "stream",
     "text": [
      "                                                                                \r"
     ]
    }
   ],
   "source": [
    "# Function to calculate the nearest centroid for a test data point\n",
    "def nearest_centroid_test(point, centroids):\n",
    "    distances = np.linalg.norm(centroids - np.array(point), axis=1)  # Calculate Euclidean distances to each centroid\n",
    "    return int(np.argmin(distances))  # Return the index of the nearest centroid\n",
    "\n",
    "# Broadcast the trained centroids\n",
    "centroids_bc = sc.broadcast(centroids)\n",
    "\n",
    "# Predict the cluster for test data\n",
    "test_predictions_rdd = test_df_scaled.rdd.map(lambda row: (row['id'], nearest_centroid_test(row['features'], centroids_bc.value)))\n",
    "\n",
    "# Define schema for the predictions DataFrame\n",
    "schema = StructType([\n",
    "    StructField(\"id\", IntegerType(), True),\n",
    "    StructField(\"predicted_cluster\", IntegerType(), True)\n",
    "])\n",
    "\n",
    "# Convert RDD to DataFrame\n",
    "test_predictions_df = test_predictions_rdd.toDF(schema)\n",
    "\n",
    "# Join the predicted clusters back to the original test DataFrame to see the results\n",
    "test_df_with_predictions = test_df_scaled.join(test_predictions_df, on='id')\n",
    "\n",
    "# Show the test data with predicted clusters\n",
    "test_df_with_predictions.show(truncate=False)\n",
    "test_df_values_features_clusters = test_df_features_and_values.join(test_predictions_df, on='id')\n",
    "test_df_values_features_clusters.show()\n"
   ]
  },
  {
   "cell_type": "markdown",
   "metadata": {},
   "source": [
    "Visualizing the feature pairs with predicted clusters."
   ]
  },
  {
   "cell_type": "code",
   "execution_count": 50,
   "metadata": {},
   "outputs": [
    {
     "name": "stderr",
     "output_type": "stream",
     "text": [
      "                                                                                \r"
     ]
    },
    {
     "data": {
      "image/png": "[encoded data removed]",
      "text/plain": [
       "<Figure size 1500x500 with 3 Axes>"
      ]
     },
     "metadata": {},
     "output_type": "display_data"
    }
   ],
   "source": [
    "\n",
    "from itertools import combinations\n",
    "# Number of rows and columns for the grid layout (adjust as needed)\n",
    "n_cols = 3  # Number of plots in each row\n",
    "n_rows = (len(list(combinations(features, 2))) + n_cols - 1) // n_cols  # Calculate rows dynamically\n",
    "\n",
    "# Convert your Spark DataFrame to Pandas for easier plotting\n",
    "test_pandas_df = test_df_values_features_clusters.select(\n",
    "    'ArrivalHour', 'IsWeekend', 'AvgTravelTimeByJourney', 'predicted_cluster'\n",
    ").toPandas()\n",
    "\n",
    "# Define a color map for the clusters\n",
    "colors = ['blue', 'green', 'cyan', 'purple', 'orange']  # Adjust the number of colors to match the number of clusters\n",
    "\n",
    "# List of features to plot in pairs\n",
    "features = ['ArrivalHour', 'IsWeekend', 'AvgTravelTimeByJourney']\n",
    "\n",
    "# Create a figure with a grid of subplots\n",
    "fig, axes = plt.subplots(n_rows, n_cols, figsize=(15, 5 * n_rows))\n",
    "axes = axes.ravel()  # Flatten the axes array for easier indexing\n",
    "\n",
    "# Loop through each pair of features using combinations\n",
    "for idx, feature_pair in enumerate(combinations(features, 2)):\n",
    "    \n",
    "    ax = axes[idx]  # Get the current axis\n",
    "    # Plot each cluster in a different color\n",
    "    for cluster in test_pandas_df['predicted_cluster'].unique():\n",
    "        data = test_pandas_df[test_pandas_df['predicted_cluster'] == cluster]\n",
    "        ax.scatter(data[feature_pair[0]], data[feature_pair[1]], \n",
    "                   c=colors[cluster], label=f'Cluster {cluster}', alpha=0.6)\n",
    "    \n",
    "    # Adding title and labels\n",
    "    ax.set_title(f'Cluster Plot: {feature_pair[0]} vs {feature_pair[1]}')\n",
    "    ax.set_xlabel(feature_pair[0])\n",
    "    ax.set_ylabel(feature_pair[1])\n",
    "    \n",
    "    # Adding a legend only for the first subplot\n",
    "    if idx == 0:\n",
    "        ax.legend()\n",
    "\n",
    "# Hide any remaining empty subplots (if any)\n",
    "for j in range(idx + 1, len(axes)):\n",
    "    fig.delaxes(axes[j])\n",
    "\n",
    "# Adjust layout to prevent overlapping\n",
    "plt.tight_layout()\n",
    "\n",
    "# Display the grid of plots\n",
    "plt.show()"
   ]
  },
  {
   "cell_type": "code",
   "execution_count": 51,
   "metadata": {},
   "outputs": [
    {
     "name": "stdout",
     "output_type": "stream",
     "text": [
      "+-----------------+-----+\n",
      "|predicted_cluster|count|\n",
      "+-----------------+-----+\n",
      "|                1|  269|\n",
      "|                2|  478|\n",
      "|                0|  245|\n",
      "+-----------------+-----+\n",
      "\n"
     ]
    }
   ],
   "source": [
    "test_df_values_features_clusters.groupby('predicted_cluster').count().show()\n"
   ]
  },
  {
   "cell_type": "code",
   "execution_count": 52,
   "metadata": {},
   "outputs": [
    {
     "name": "stdout",
     "output_type": "stream",
     "text": [
      "Silhouette Score for Test Data: 0.7913597840773668\n"
     ]
    }
   ],
   "source": [
    "#evaluating cluster of test set with sihoulette score.\n",
    "from pyspark.ml.evaluation import ClusteringEvaluator\n",
    "\n",
    "# Initialize the ClusteringEvaluator\n",
    "evaluator = ClusteringEvaluator(featuresCol='features', predictionCol='predicted_cluster', metricName='silhouette', distanceMeasure='squaredEuclidean')\n",
    "\n",
    "# Evaluate the clustering performance on test data\n",
    "silhouette_score_test = evaluator.evaluate(test_df_values_features_clusters)\n",
    "\n",
    "print(f'Silhouette Score for Test Data: {silhouette_score_test}')\n"
   ]
  },
  {
   "cell_type": "code",
   "execution_count": 53,
   "metadata": {},
   "outputs": [
    {
     "name": "stdout",
     "output_type": "stream",
     "text": [
      "+---+-----------+---------+----------------------+--------------------+-----------------+----------+\n",
      "| id|ArrivalHour|IsWeekend|AvgTravelTimeByJourney|            features|predicted_cluster|TravelTime|\n",
      "+---+-----------+---------+----------------------+--------------------+-----------------+----------+\n",
      "|  1|          8|        0|             2.6083333|[8.0,0.0,2.608333...|                0|       3.2|\n",
      "|  2|          8|        0|             2.6083333|[8.0,0.0,2.608333...|                0| 2.0166667|\n",
      "|  3|         11|        0|             2.5583334|[11.0,0.0,2.55833...|                1|  4.383333|\n",
      "|  4|         11|        0|             2.5583334|[11.0,0.0,2.55833...|                1|0.73333335|\n",
      "|  5|         13|        0|                 5.475|[13.0,0.0,5.47499...|                1|       9.7|\n",
      "|  6|         13|        0|                 5.475|[13.0,0.0,5.47499...|                1|      1.25|\n",
      "|  7|         16|        0|                   0.5|      [16.0,0.0,0.5]|                1|       0.0|\n",
      "|  8|         16|        0|                   0.5|      [16.0,0.0,0.5]|                1|       1.0|\n",
      "|  9|         18|        0|             3.3916667|[18.0,0.0,3.39166...|                1| 6.7833333|\n",
      "| 10|         18|        0|             3.3916667|[18.0,0.0,3.39166...|                1|       0.0|\n",
      "| 11|          8|        0|             3.1666667|[8.0,0.0,3.166666...|                0|       0.0|\n",
      "| 12|          8|        0|             3.1666667|[8.0,0.0,3.166666...|                0| 6.3333335|\n",
      "| 13|         11|        0|             4.5583334|[11.0,0.0,4.55833...|                1|       0.0|\n",
      "| 14|         11|        0|             4.5583334|[11.0,0.0,4.55833...|                1|  9.116667|\n",
      "| 15|         12|        1|                  0.25|     [12.0,1.0,0.25]|                0|      0.25|\n",
      "| 16|         11|        0|             3.1583333|[11.0,0.0,3.15833...|                1| 3.8166666|\n",
      "| 17|         11|        0|             3.1583333|[11.0,0.0,3.15833...|                1|       2.5|\n",
      "| 18|         13|        0|             1.5583333|[13.0,0.0,1.55833...|                1|       0.0|\n",
      "| 19|         13|        0|             1.5583333|[13.0,0.0,1.55833...|                1| 3.1166666|\n",
      "| 20|         16|        0|                1.1125|[16.0,0.0,1.11249...|                1| 3.8166666|\n",
      "+---+-----------+---------+----------------------+--------------------+-----------------+----------+\n",
      "only showing top 20 rows\n",
      "\n"
     ]
    }
   ],
   "source": [
    "#adding travel time for prepartation for prediction\n",
    "test_df_values_features_target = test_df_values_features_clusters.join(test_df.select('id', 'TravelTime'), on ='id', how = 'inner')\n",
    "test_df_values_features_target.show()"
   ]
  },
  {
   "cell_type": "code",
   "execution_count": 54,
   "metadata": {},
   "outputs": [
    {
     "name": "stderr",
     "output_type": "stream",
     "text": [
      "                                                                                \r"
     ]
    },
    {
     "name": "stdout",
     "output_type": "stream",
     "text": [
      "+---------------+---------------+\n",
      "|min_travel_time|max_travel_time|\n",
      "+---------------+---------------+\n",
      "|            0.0|      23.383333|\n",
      "+---------------+---------------+\n",
      "\n",
      "+---------------+---------------+\n",
      "|min_travel_time|max_travel_time|\n",
      "+---------------+---------------+\n",
      "|            0.0|      27.433332|\n",
      "+---------------+---------------+\n",
      "\n"
     ]
    }
   ],
   "source": [
    "from pyspark.sql import functions as F\n",
    "#obtain range for classification\n",
    "# Calculate and print the minimum and maximum TravelTime in the training dataset\n",
    "min_max_train = train_df_final.agg(\n",
    "    F.min('TravelTime').alias('min_travel_time'),\n",
    "    F.max('TravelTime').alias('max_travel_time')\n",
    ")\n",
    "\n",
    "# Display the min and max travel times for the training dataset\n",
    "min_max_train.show()\n",
    "\n",
    "# Calculate and print the minimum and maximum TravelTime in the test dataset\n",
    "min_max_test = test_df_values_features_target.agg(\n",
    "    F.min('TravelTime').alias('min_travel_time'),\n",
    "    F.max('TravelTime').alias('max_travel_time')\n",
    ")\n",
    "\n",
    "# Display the min and max travel times for the test dataset\n",
    "min_max_test.show()\n"
   ]
  },
  {
   "cell_type": "markdown",
   "metadata": {},
   "source": [
    "Define bins for the TravelTime in both train and test data"
   ]
  },
  {
   "cell_type": "code",
   "execution_count": 55,
   "metadata": {},
   "outputs": [
    {
     "name": "stdout",
     "output_type": "stream",
     "text": [
      "+---+-----------+---------+----------------------+--------------------+-------+----------+\n",
      "| id|ArrivalHour|IsWeekend|AvgTravelTimeByJourney|            features|cluster|TravelTime|\n",
      "+---+-----------+---------+----------------------+--------------------+-------+----------+\n",
      "|  1|          6|        0|                 5.575|[6.0,0.0,5.574999...|      2|       9.3|\n",
      "|  3|          8|        0|                  3.85|[8.0,0.0,3.849999...|      2|       5.4|\n",
      "|  5|         11|        0|             5.0416665|[11.0,0.0,5.04166...|      2|       0.0|\n",
      "|  7|         13|        0|                 5.375|    [13.0,0.0,5.375]|      2|  9.416667|\n",
      "|  9|         15|        0|             3.1833334|[15.0,0.0,3.18333...|      0|  4.516667|\n",
      "| 11|         18|        0|              7.116667|[18.0,0.0,7.11666...|      0| 12.616667|\n",
      "| 13|         13|        0|                 5.225|[13.0,0.0,5.22499...|      2|  9.933333|\n",
      "| 15|         15|        0|              4.491667|[15.0,0.0,4.49166...|      0|  8.566667|\n",
      "| 17|         18|        0|             3.9333334|[18.0,0.0,3.93333...|      0|      7.35|\n",
      "| 19|          8|        0|              5.608333|[8.0,0.0,5.608333...|      2|  9.383333|\n",
      "| 21|         11|        0|             3.1833334|[11.0,0.0,3.18333...|      2|      5.35|\n",
      "| 23|          8|        0|             2.9666667|[8.0,0.0,2.966666...|      2|       5.1|\n",
      "| 25|         11|        0|             5.0666666|[11.0,0.0,5.06666...|      2|  8.633333|\n",
      "| 27|         18|        0|              8.166667|[18.0,0.0,8.16666...|      0| 14.666667|\n",
      "| 29|         16|        0|             1.4138889|[16.0,0.0,1.41388...|      0|       0.0|\n",
      "| 31|         16|        0|             1.4138889|[16.0,0.0,1.41388...|      0|       0.8|\n",
      "| 33|         16|        0|             1.4138889|[16.0,0.0,1.41388...|      0|0.21666667|\n",
      "| 35|         16|        0|             1.4138889|[16.0,0.0,1.41388...|      0| 4.4333334|\n",
      "| 37|         16|        0|             1.4138889|[16.0,0.0,1.41388...|      0| 1.5166667|\n",
      "| 39|         16|        0|             1.4138889|[16.0,0.0,1.41388...|      0| 1.8166667|\n",
      "+---+-----------+---------+----------------------+--------------------+-------+----------+\n",
      "only showing top 20 rows\n",
      "\n"
     ]
    }
   ],
   "source": [
    "train_df_final.show()"
   ]
  },
  {
   "cell_type": "code",
   "execution_count": 56,
   "metadata": {},
   "outputs": [
    {
     "name": "stdout",
     "output_type": "stream",
     "text": [
      "Training ANN model for Cluster 0\n"
     ]
    },
    {
     "name": "stderr",
     "output_type": "stream",
     "text": [
      "24/09/12 18:59:38 ERROR StrongWolfeLineSearch: Encountered bad values in function evaluation. Decreasing step size to 0.5\n",
      "24/09/12 18:59:38 ERROR StrongWolfeLineSearch: Encountered bad values in function evaluation. Decreasing step size to 0.25\n",
      "24/09/12 18:59:38 ERROR StrongWolfeLineSearch: Encountered bad values in function evaluation. Decreasing step size to 0.125\n",
      "24/09/12 18:59:38 ERROR StrongWolfeLineSearch: Encountered bad values in function evaluation. Decreasing step size to 0.0625\n"
     ]
    },
    {
     "name": "stdout",
     "output_type": "stream",
     "text": [
      "Cluster 0 Evaluation Metrics:\n",
      "Accuracy: 0.49795918367346936\n",
      "Precision: 0.2541451435345923\n",
      "F1 Score: 0.3365328549002018\n",
      "----------------------------------------\n",
      "Training ANN model for Cluster 1\n"
     ]
    },
    {
     "name": "stderr",
     "output_type": "stream",
     "text": [
      "24/09/12 18:59:47 ERROR StrongWolfeLineSearch: Encountered bad values in function evaluation. Decreasing step size to 0.5\n",
      "24/09/12 18:59:47 ERROR StrongWolfeLineSearch: Encountered bad values in function evaluation. Decreasing step size to 0.25\n",
      "24/09/12 18:59:47 ERROR StrongWolfeLineSearch: Encountered bad values in function evaluation. Decreasing step size to 0.5\n",
      "24/09/12 18:59:47 ERROR StrongWolfeLineSearch: Encountered bad values in function evaluation. Decreasing step size to 0.25\n",
      "24/09/12 18:59:47 ERROR StrongWolfeLineSearch: Encountered bad values in function evaluation. Decreasing step size to 0.125\n",
      "24/09/12 18:59:47 ERROR StrongWolfeLineSearch: Encountered bad values in function evaluation. Decreasing step size to 0.09375\n",
      "24/09/12 18:59:47 ERROR LBFGS: Failure! Resetting history: breeze.optimize.FirstOrderException: Line search zoom failed\n"
     ]
    },
    {
     "name": "stdout",
     "output_type": "stream",
     "text": [
      "Cluster 1 Evaluation Metrics:\n",
      "Accuracy: 0.4163568773234201\n",
      "Precision: 0.40075112559822956\n",
      "F1 Score: 0.3840957658226369\n",
      "----------------------------------------\n",
      "Training ANN model for Cluster 2\n",
      "Cluster 2 Evaluation Metrics:\n",
      "Accuracy: 0.07531380753138076\n",
      "Precision: 0.005672169604873864\n",
      "F1 Score: 0.010549794051088354\n",
      "----------------------------------------\n"
     ]
    }
   ],
   "source": [
    "from pyspark.sql import functions as F\n",
    "from pyspark.ml.evaluation import MulticlassClassificationEvaluator\n",
    "from pyspark.ml.classification import MultilayerPerceptronClassifier\n",
    "from pyspark.sql.functions import when, col\n",
    "import matplotlib.pyplot as plt\n",
    "\n",
    "# Define bins for the TravelTime in both train and test data\n",
    "\n",
    "# Bin TravelTime in the training data\n",
    "train_df_with_clusters_and_features = train_df_final.withColumn(\n",
    "    'binned_travel_time',\n",
    "    when(col('TravelTime') == 0, 'Zero') \n",
    "    .when((col('TravelTime') > 0) & (col('TravelTime') < 5), 'Low')\n",
    "    .when((col('TravelTime') >= 5) & (col('TravelTime') < 10), 'Moderate')\n",
    "    .when((col('TravelTime') >= 10) & (col('TravelTime') < 15), 'High')\n",
    "    .otherwise('Very High')\n",
    ")\n",
    "\n",
    "# Bin TravelTime in the test data\n",
    "test_df_with_clusters_and_features = test_df_values_features_target.withColumn(\n",
    "    'binned_travel_time', \n",
    "    when(col('TravelTime') == 0, 'Zero') \n",
    "    .when((col('TravelTime') > 0) & (col('TravelTime') < 5), 'Low')\n",
    "    .when((col('TravelTime') >= 5) & (col('TravelTime') < 10), 'Moderate')\n",
    "    .when((col('TravelTime') >= 10) & (col('TravelTime') < 15), 'High')\n",
    "    .otherwise('Very High')\n",
    ")\n",
    "\n",
    "# Convert the binned travel time to numeric labels in training and test data\n",
    "train_df_with_clusters_and_features = train_df_with_clusters_and_features.withColumn(\n",
    "    'binned_travel_time_numeric', \n",
    "    when(col('binned_travel_time') == 'Zero', 0) \n",
    "    .when(col('binned_travel_time') == 'Low', 1)\n",
    "    .when(col('binned_travel_time') == 'Moderate', 2)\n",
    "    .when(col('binned_travel_time') == 'High', 3)\n",
    "    .when(col('binned_travel_time') == 'Very High', 4)\n",
    ")\n",
    "\n",
    "test_df_with_clusters_and_features = test_df_with_clusters_and_features.withColumn(\n",
    "    'binned_travel_time_numeric', \n",
    "     when(col('binned_travel_time') == 'Zero', 0) \n",
    "    .when(col('binned_travel_time') == 'Low', 1)\n",
    "    .when(col('binned_travel_time') == 'Moderate', 2)\n",
    "    .when(col('binned_travel_time') == 'High', 3)\n",
    "    .when(col('binned_travel_time') == 'Very High', 4)\n",
    ")\n",
    "\n",
    "# Train ANN model for each cluster\n",
    "\n",
    "# Empty list to hold predictions for all clusters\n",
    "all_predictions = []\n",
    "\n",
    "for cluster_num in range(3):  # for 3 clusters\n",
    "    print(f\"Training ANN model for Cluster {cluster_num}\")\n",
    "    \n",
    "    # Filter data for the current cluster\n",
    "    train_df_cluster = train_df_with_clusters_and_features.filter(col(\"cluster\") == cluster_num)\n",
    "    test_df_cluster = test_df_with_clusters_and_features.filter(col(\"predicted_cluster\") == cluster_num)\n",
    "\n",
    "    # Drop unnecessary columns in training data\n",
    "    train_data = train_df_cluster.drop('binned_travel_time', 'cluster')\n",
    "\n",
    "    # Drop unnecessary columns in test data\n",
    "    test_data = test_df_cluster.drop('binned_travel_time')\n",
    "\n",
    "    # Define the ANN structure and train the model\n",
    "    layers = [3, 5, 5, 5]  # 6 input neurons, 5 in hidden layers, 4 output neurons for 4 classes\n",
    "    ann = MultilayerPerceptronClassifier(featuresCol=\"features\", labelCol=\"binned_travel_time_numeric\", maxIter=100, layers=layers, blockSize=128, seed=1234)\n",
    "    \n",
    "    # Fit the model on the training data\n",
    "    ann_model = ann.fit(train_data)\n",
    "\n",
    "    # Make Predictions on the test data\n",
    "    cluster_predictions = ann_model.transform(test_data)\n",
    "    \n",
    "    # Add the cluster number for visualization\n",
    "    cluster_predictions = cluster_predictions.withColumn('predicted_cluster', F.lit(cluster_num))\n",
    "    \n",
    "    # Collect predictions for all clusters\n",
    "    all_predictions.append(cluster_predictions)\n",
    "\n",
    "    # Evaluate the model for accuracy, precision, and F1 score\n",
    "    evaluator_accuracy = MulticlassClassificationEvaluator(labelCol=\"binned_travel_time_numeric\", predictionCol=\"prediction\", metricName=\"accuracy\")\n",
    "    evaluator_precision = MulticlassClassificationEvaluator(labelCol=\"binned_travel_time_numeric\", predictionCol=\"prediction\", metricName=\"weightedPrecision\")\n",
    "    evaluator_f1 = MulticlassClassificationEvaluator(labelCol=\"binned_travel_time_numeric\", predictionCol=\"prediction\", metricName=\"f1\")\n",
    "    \n",
    "    accuracy = evaluator_accuracy.evaluate(cluster_predictions)\n",
    "    precision = evaluator_precision.evaluate(cluster_predictions)\n",
    "    f1_score = evaluator_f1.evaluate(cluster_predictions)\n",
    "    \n",
    "    # Print the evaluation metrics\n",
    "    print(f\"Cluster {cluster_num} Evaluation Metrics:\")\n",
    "    print(f\"Accuracy: {accuracy}\")\n",
    "    print(f\"Precision: {precision}\")\n",
    "    print(f\"F1 Score: {f1_score}\")\n",
    "    print(\"-\" * 40)\n",
    "\n",
    "# Combine all cluster predictions into a single DataFrame (if needed for further analysis)\n",
    "combined_predictions = all_predictions[0]\n",
    "for cluster_pred in all_predictions[1:]:\n",
    "    combined_predictions = combined_predictions.union(cluster_pred)\n",
    "\n"
   ]
  },
  {
   "cell_type": "code",
   "execution_count": 57,
   "metadata": {},
   "outputs": [
    {
     "name": "stdout",
     "output_type": "stream",
     "text": [
      "Processing Cluster 0\n"
     ]
    },
    {
     "data": {
      "image/png": "[encoded data removed]",
      "text/plain": [
       "<Figure size 1800x600 with 3 Axes>"
      ]
     },
     "metadata": {},
     "output_type": "display_data"
    },
    {
     "name": "stdout",
     "output_type": "stream",
     "text": [
      "Processing Cluster 1\n"
     ]
    },
    {
     "data": {
      "image/png": "[encoded data removed]",
      "text/plain": [
       "<Figure size 1800x600 with 3 Axes>"
      ]
     },
     "metadata": {},
     "output_type": "display_data"
    },
    {
     "name": "stdout",
     "output_type": "stream",
     "text": [
      "Processing Cluster 2\n"
     ]
    },
    {
     "data": {
      "image/png": "[encoded data removed]",
      "text/plain": [
       "<Figure size 1800x600 with 3 Axes>"
      ]
     },
     "metadata": {},
     "output_type": "display_data"
    },
    {
     "name": "stdout",
     "output_type": "stream",
     "text": [
      "Cluster 0 Metrics:\n",
      "  Accuracy: 0.49795918367346936\n",
      "  Precision: 0.2541451435345923\n",
      "  F1 Score: 0.3365328549002018\n",
      "----------------------------------------\n",
      "Cluster 1 Metrics:\n",
      "  Accuracy: 0.4163568773234201\n",
      "  Precision: 0.40075112559822956\n",
      "  F1 Score: 0.3840957658226369\n",
      "----------------------------------------\n",
      "Cluster 2 Metrics:\n",
      "  Accuracy: 0.07531380753138076\n",
      "  Precision: 0.005672169604873864\n",
      "  F1 Score: 0.010549794051088354\n",
      "----------------------------------------\n"
     ]
    }
   ],
   "source": [
    "from pyspark.ml.evaluation import MulticlassClassificationEvaluator\n",
    "import matplotlib.pyplot as plt\n",
    "import pandas as pd\n",
    "\n",
    "# Define the evaluator objects for accuracy, precision, and F1 score\n",
    "evaluator_accuracy = MulticlassClassificationEvaluator(labelCol=\"binned_travel_time_numeric\", predictionCol=\"prediction\", metricName=\"accuracy\")\n",
    "evaluator_precision = MulticlassClassificationEvaluator(labelCol=\"binned_travel_time_numeric\", predictionCol=\"prediction\", metricName=\"weightedPrecision\")\n",
    "evaluator_f1 = MulticlassClassificationEvaluator(labelCol=\"binned_travel_time_numeric\", predictionCol=\"prediction\", metricName=\"f1\")\n",
    "\n",
    "# Initialize empty lists to hold evaluation metrics for all clusters\n",
    "cluster_metrics = []\n",
    "\n",
    "# Iterate through each cluster for evaluation and visualization\n",
    "for cluster_num in range(3):  # for 3 clusters\n",
    "    print(f\"Processing Cluster {cluster_num}\")\n",
    "    \n",
    "    # Filter predictions for the current cluster\n",
    "    cluster_data = combined_predictions.filter(F.col(\"predicted_cluster\") == cluster_num)\n",
    "    \n",
    "    # Evaluate the metrics using PySpark DataFrame\n",
    "    accuracy = evaluator_accuracy.evaluate(cluster_data)\n",
    "    precision = evaluator_precision.evaluate(cluster_data)\n",
    "    f1_score = evaluator_f1.evaluate(cluster_data)\n",
    "    \n",
    "    # Save metrics for each cluster to display them later\n",
    "    cluster_metrics.append((cluster_num, accuracy, precision, f1_score))\n",
    "    \n",
    "    # Convert to Pandas for plotting\n",
    "    cluster_data_pandas = cluster_data.select('binned_travel_time_numeric', 'prediction').toPandas()\n",
    "\n",
    "    # Map numeric bins back to categorical bins for easier visualization\n",
    "    bin_mapping = {0: 'Zero', 1: 'Low', 2: 'Moderate', 3: 'High', 4: 'Very High'}\n",
    "    cluster_data_pandas['actual_bins'] = cluster_data_pandas['binned_travel_time_numeric'].map(bin_mapping)\n",
    "    cluster_data_pandas['predicted_bins'] = cluster_data_pandas['prediction'].map(bin_mapping)\n",
    "\n",
    "    # Create the plot\n",
    "    plt.figure(figsize=(18, 6))\n",
    "\n",
    "    # Plot Actual Binned Travel Times\n",
    "    plt.subplot(1, 3, 1)\n",
    "    cluster_data_pandas['actual_bins'].value_counts().plot(kind='bar', color='blue', alpha=0.7)\n",
    "    plt.title(f'Actual Binned Travel Times for Cluster {cluster_num}')\n",
    "    plt.xlabel('Travel Time Bins')\n",
    "    plt.ylabel('Count')\n",
    "\n",
    "    # Plot Predicted Binned Travel Times\n",
    "    plt.subplot(1, 3, 2)\n",
    "    cluster_data_pandas['predicted_bins'].value_counts().plot(kind='bar', color='orange', alpha=0.7)\n",
    "    plt.title(f'Predicted Binned Travel Times for Cluster {cluster_num}')\n",
    "    plt.xlabel('Travel Time Bins')\n",
    "    plt.ylabel('Count')\n",
    "\n",
    "    # Display evaluation metrics in a separate subplot\n",
    "    plt.subplot(1, 3, 3)\n",
    "    plt.bar(['Accuracy', 'Precision', 'F1 Score'], [accuracy, precision, f1_score], color=['green', 'blue', 'purple'])\n",
    "    plt.ylim(0, 1)  # Metrics are usually between 0 and 1\n",
    "    plt.title(f'Evaluation Metrics for Cluster {cluster_num}')\n",
    "    plt.ylabel('Metric Value')\n",
    "\n",
    "    # Display the plots\n",
    "    plt.tight_layout()\n",
    "    plt.show()\n",
    "\n",
    "#  print out the metrics for all clusters\n",
    "for cluster_num, accuracy, precision, f1_score in cluster_metrics:\n",
    "    print(f\"Cluster {cluster_num} Metrics:\")\n",
    "    print(f\"  Accuracy: {accuracy}\")\n",
    "    print(f\"  Precision: {precision}\")\n",
    "    print(f\"  F1 Score: {f1_score}\")\n",
    "    print(\"-\" * 40)\n"
   ]
  },
  {
   "cell_type": "code",
   "execution_count": null,
   "metadata": {},
   "outputs": [],
   "source": [
    "combined_predictions.to_csv('./combined_predictions.csv', index=False)"
   ]
  },
  {
   "cell_type": "markdown",
   "metadata": {},
   "source": []
  },
  {
   "cell_type": "markdown",
   "metadata": {},
   "source": []
  },
  {
   "cell_type": "markdown",
   "metadata": {},
   "source": []
  },
  {
   "cell_type": "markdown",
   "metadata": {},
   "source": []
  },
  {
   "cell_type": "code",
   "execution_count": null,
   "metadata": {},
   "outputs": [],
   "source": []
  }
 ],
 "metadata": {
  "kernelspec": {
   "display_name": "env",
   "language": "python",
   "name": "python3"
  },
  "language_info": {
   "codemirror_mode": {
    "name": "ipython",
    "version": 3
   },
   "file_extension": ".py",
   "mimetype": "text/x-python",
   "name": "python",
   "nbconvert_exporter": "python",
   "pygments_lexer": "ipython3",
   "version": "3.12.5"
  }
 },
 "nbformat": 4,
 "nbformat_minor": 2
}
